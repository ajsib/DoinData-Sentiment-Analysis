{
 "cells": [
  {
   "cell_type": "markdown",
   "metadata": {},
   "source": [
    "```\n",
    "• Implement Clustering: Use algorithms like Kmeans to detect natural\n",
    "clusters in the Twitter data.\n",
    "• Classify Sentiments: Apply SVM and RNN for unsupervised sentiment\n",
    "classification.\n",
    "• Performance Metrics: Evaluate models based on accuracy, precision,\n",
    "recall, and F1 score.\n",
    "```"
   ]
  },
  {
   "cell_type": "code",
   "execution_count": 1,
   "metadata": {},
   "outputs": [],
   "source": [
    "import pandas as pd\n",
    "import numpy as np\n",
    "import matplotlib.pyplot as plt\n",
    "import seaborn as sns\n",
    "import os\n",
    "import re\n",
    "from sklearn.feature_extraction.text import ENGLISH_STOP_WORDS\n",
    "from torch.utils.data import DataLoader, Dataset\n",
    "import torch\n",
    "# import tensorflow"
   ]
  },
  {
   "cell_type": "code",
   "execution_count": 2,
   "metadata": {},
   "outputs": [
    {
     "data": {
      "text/html": [
       "<div>\n",
       "<style scoped>\n",
       "    .dataframe tbody tr th:only-of-type {\n",
       "        vertical-align: middle;\n",
       "    }\n",
       "\n",
       "    .dataframe tbody tr th {\n",
       "        vertical-align: top;\n",
       "    }\n",
       "\n",
       "    .dataframe thead th {\n",
       "        text-align: right;\n",
       "    }\n",
       "</style>\n",
       "<table border=\"1\" class=\"dataframe\">\n",
       "  <thead>\n",
       "    <tr style=\"text-align: right;\">\n",
       "      <th></th>\n",
       "      <th>label</th>\n",
       "      <th>tweet</th>\n",
       "    </tr>\n",
       "  </thead>\n",
       "  <tbody>\n",
       "    <tr>\n",
       "      <th>0</th>\n",
       "      <td>0</td>\n",
       "      <td>#fingerprint #Pregnancy Test https://goo.gl/h1...</td>\n",
       "    </tr>\n",
       "    <tr>\n",
       "      <th>1</th>\n",
       "      <td>0</td>\n",
       "      <td>Finally a transparant silicon case ^^ Thanks t...</td>\n",
       "    </tr>\n",
       "    <tr>\n",
       "      <th>2</th>\n",
       "      <td>0</td>\n",
       "      <td>We love this! Would you go? #talk #makememorie...</td>\n",
       "    </tr>\n",
       "    <tr>\n",
       "      <th>3</th>\n",
       "      <td>0</td>\n",
       "      <td>I'm wired I know I'm George I was made that wa...</td>\n",
       "    </tr>\n",
       "    <tr>\n",
       "      <th>4</th>\n",
       "      <td>1</td>\n",
       "      <td>What amazing service! Apple won't even talk to...</td>\n",
       "    </tr>\n",
       "  </tbody>\n",
       "</table>\n",
       "</div>"
      ],
      "text/plain": [
       "   label                                              tweet\n",
       "0      0  #fingerprint #Pregnancy Test https://goo.gl/h1...\n",
       "1      0  Finally a transparant silicon case ^^ Thanks t...\n",
       "2      0  We love this! Would you go? #talk #makememorie...\n",
       "3      0  I'm wired I know I'm George I was made that wa...\n",
       "4      1  What amazing service! Apple won't even talk to..."
      ]
     },
     "execution_count": 2,
     "metadata": {},
     "output_type": "execute_result"
    }
   ],
   "source": [
    "file_name = os.path.join(os.getcwd(),  'sentiment_analysis.csv')\n",
    "df = pd.read_csv(file_name)\n",
    "df = df.drop(columns=['id'])\n",
    "df.head()"
   ]
  },
  {
   "cell_type": "code",
   "execution_count": 3,
   "metadata": {},
   "outputs": [],
   "source": [
    "def clean(text):\n",
    "    text = re.sub(r'http\\S+', '', text)  # Remove URLs\n",
    "    # text = re.sub(r'#\\w+', '', text)  # Remove hashtags\n",
    "    text = re.sub(r'@\\w+', '', text)  # Remove mentions\n",
    "    text = re.sub(r'\\n',' ', text)  # Remove line breaks\n",
    "    text = re.sub(r'[^a-zA-Z\\s]', '', text, re.I|re.A)  # Remove punctuation\n",
    "    text = text.lower()  # Lowercase\n",
    "\n",
    "    filtered_text = ' '.join([word for word in text.split() if word not in ENGLISH_STOP_WORDS])\n",
    "\n",
    "    return filtered_text\n",
    "\n",
    "# Function to extract hashtags from a tweet\n",
    "def extract_hashtags(tweet):\n",
    "    hashtags = re.findall(r'#(\\w+)', tweet)\n",
    "    return hashtags\n",
    "\n",
    "# Apply the function to extract hashtags and create a new column\n",
    "df['hashtags'] = df['tweet'].apply(extract_hashtags)\n",
    "\n",
    "df['cleaned_tweet'] = df['tweet'].apply(clean)"
   ]
  },
  {
   "cell_type": "code",
   "execution_count": 4,
   "metadata": {},
   "outputs": [
    {
     "name": "stdout",
     "output_type": "stream",
     "text": [
      "Cluster 0: ['apple', 'iphone', 'ios', 'ipad', 'new', 'mac', 'just', 'phone', 'fuck', 'fucking']\n",
      "Cluster 1: ['iphone', 'love', 'cute', 'ipad', 'instagram', 'like', 'news', 'fashion', 'instagood', 'case']\n",
      "Cluster 2: ['sony', 'samsung', 'ps', 'new', 'smile', 'camera', 'music', 'ipod', 'im', 'just']\n",
      "Cluster 3: ['phone', 'new', 'samsung', 'galaxy', 'note', 'got', 'iphone', 'finally', 'android', 'case']\n",
      "Cluster 4: ['follow', 'gain', 'rt', 'sougofollow', 'rts', 'followers', 'iphone', 'sup', 'surf', 'capetown']\n",
      "                                               tweet  cluster\n",
      "0  #fingerprint #Pregnancy Test https://goo.gl/h1...        1\n",
      "1  Finally a transparant silicon case ^^ Thanks t...        2\n",
      "2  We love this! Would you go? #talk #makememorie...        1\n",
      "3  I'm wired I know I'm George I was made that wa...        1\n",
      "4  What amazing service! Apple won't even talk to...        0\n"
     ]
    }
   ],
   "source": [
    "from sklearn.feature_extraction.text import TfidfVectorizer\n",
    "from sklearn.cluster import KMeans\n",
    "#apply kmean alrogithm to detect natural clusters in the data\n",
    "# TF-IDF Vectorization\n",
    "vectorizer = TfidfVectorizer(stop_words='english')\n",
    "X = vectorizer.fit_transform(df['cleaned_tweet'])\n",
    "\n",
    "# Applying K-means clustering\n",
    "k = 5  # Number of clusters\n",
    "model = KMeans(n_clusters=k, random_state=42)\n",
    "model.fit(X)\n",
    "\n",
    "# Assigning cluster labels to the data points\n",
    "df['cluster'] = model.labels_\n",
    "\n",
    "# Analyze cluster centroids (to find top terms per cluster)\n",
    "order_centroids = model.cluster_centers_.argsort()[:, ::-1]\n",
    "terms = vectorizer.get_feature_names_out()\n",
    "for i in range(k):\n",
    "    top_terms = [terms[ind] for ind in order_centroids[i, :10]]\n",
    "    print(f\"Cluster {i}: {top_terms}\")\n",
    "\n",
    "# View the data with clusters\n",
    "print(df[['tweet', 'cluster']].head())"
   ]
  },
  {
   "cell_type": "code",
<<<<<<< HEAD
   "execution_count": 8,
=======
   "execution_count": 5,
>>>>>>> 8616a0d2a941a584a12d2d52546f28d2af5456b0
   "metadata": {},
   "outputs": [
    {
     "name": "stdout",
     "output_type": "stream",
     "text": [
<<<<<<< HEAD
      "Collecting textblob\n",
      "  Downloading textblob-0.18.0.post0-py3-none-any.whl (626 kB)\n",
      "     -------------------------------------- 626.3/626.3 kB 7.8 MB/s eta 0:00:00\n",
      "Collecting nltk>=3.8\n",
      "  Downloading nltk-3.8.1-py3-none-any.whl (1.5 MB)\n",
      "     ---------------------------------------- 1.5/1.5 MB 16.1 MB/s eta 0:00:00\n",
      "Requirement already satisfied: click in c:\\users\\brite\\anaconda3\\lib\\site-packages (from nltk>=3.8->textblob) (8.0.4)\n",
      "Requirement already satisfied: tqdm in c:\\users\\brite\\anaconda3\\lib\\site-packages (from nltk>=3.8->textblob) (4.64.1)\n",
      "Requirement already satisfied: regex>=2021.8.3 in c:\\users\\brite\\anaconda3\\lib\\site-packages (from nltk>=3.8->textblob) (2022.7.9)\n",
      "Requirement already satisfied: joblib in c:\\users\\brite\\anaconda3\\lib\\site-packages (from nltk>=3.8->textblob) (1.1.0)\n",
      "Requirement already satisfied: colorama in c:\\users\\brite\\anaconda3\\lib\\site-packages (from click->nltk>=3.8->textblob) (0.4.5)\n",
      "Installing collected packages: nltk, textblob\n",
      "  Attempting uninstall: nltk\n",
      "    Found existing installation: nltk 3.7\n",
      "    Uninstalling nltk-3.7:\n",
      "      Successfully uninstalled nltk-3.7\n",
      "Successfully installed nltk-3.8.1 textblob-0.18.0.post0\n"
=======
      "Validation Accuracy: 0.9015151515151515\n",
      "              precision    recall  f1-score   support\n",
      "\n",
      "           0       0.94      0.92      0.93       584\n",
      "           1       0.80      0.84      0.82       208\n",
      "\n",
      "    accuracy                           0.90       792\n",
      "   macro avg       0.87      0.88      0.88       792\n",
      "weighted avg       0.90      0.90      0.90       792\n",
      "\n",
      "Test Accuracy: 0.8825757575757576\n",
      "              precision    recall  f1-score   support\n",
      "\n",
      "           0       0.92      0.91      0.92       568\n",
      "           1       0.79      0.80      0.79       224\n",
      "\n",
      "    accuracy                           0.88       792\n",
      "   macro avg       0.85      0.86      0.86       792\n",
      "weighted avg       0.88      0.88      0.88       792\n",
      "\n"
>>>>>>> 8616a0d2a941a584a12d2d52546f28d2af5456b0
     ]
    }
   ],
   "source": [
    "!pip install textblob"
   ]
  },
  {
   "cell_type": "code",
<<<<<<< HEAD
   "execution_count": 9,
   "metadata": {},
   "outputs": [
    {
     "name": "stderr",
     "output_type": "stream",
     "text": [
      "[nltk_data] Downloading package punkt to\n",
      "[nltk_data]     C:\\Users\\brite\\AppData\\Roaming\\nltk_data...\n",
      "[nltk_data]   Unzipping tokenizers\\punkt.zip.\n"
     ]
    },
    {
     "data": {
      "text/plain": [
       "True"
      ]
     },
     "execution_count": 9,
     "metadata": {},
     "output_type": "execute_result"
    }
   ],
   "source": [
    "import nltk\n",
    "nltk.download('punkt')"
   ]
  },
  {
   "cell_type": "code",
   "execution_count": 11,
   "metadata": {},
   "outputs": [
    {
     "name": "stdout",
     "output_type": "stream",
     "text": [
      "Validation Accuracy: 0.8939393939393939\n",
      "              precision    recall  f1-score   support\n",
      "\n",
      "           0       0.94      0.92      0.93      1182\n",
      "           1       0.78      0.82      0.80       402\n",
      "\n",
      "    accuracy                           0.89      1584\n",
      "   macro avg       0.86      0.87      0.86      1584\n",
      "weighted avg       0.90      0.89      0.89      1584\n",
      "\n",
      "Test Accuracy: 0.8926767676767676\n",
      "              precision    recall  f1-score   support\n",
      "\n",
      "           0       0.93      0.92      0.93      1152\n",
      "           1       0.79      0.82      0.81       432\n",
      "\n",
      "    accuracy                           0.89      1584\n",
      "   macro avg       0.86      0.87      0.87      1584\n",
      "weighted avg       0.89      0.89      0.89      1584\n",
      "\n"
     ]
    }
   ],
   "source": [
    "# SVM Based approach:\n",
    "from sklearn.model_selection import train_test_split\n",
    "#from sklearn.feature_extraction.text import TfidfVectorizer\n",
    "from sklearn.svm import SVC\n",
    "from textblob import TextBlob\n",
    "from sklearn.metrics import classification_report\n",
    "from sklearn.metrics import accuracy_score\n",
    "\n",
    "# Step 1: Sentiment Analysis\n",
    "def get_sentiment(text):\n",
    "    return TextBlob(text).sentiment.polarity\n",
    "\n",
    "df['sentiment'] = df['tweet'].apply(get_sentiment)\n",
    "\n",
    "# Step 2: Clustering Based on Sentiment\n",
    "kmeans = KMeans(n_clusters=3, random_state=42)\n",
    "df['sentiment_cluster'] = kmeans.fit_predict(df[['sentiment']])\n",
    "\n",
    "# Step 3: Feature Extraction\n",
    "tfidf_vectorizer = TfidfVectorizer(max_features=5000)\n",
    "X = tfidf_vectorizer.fit_transform(df['tweet'])\n",
    "\n",
    "# Convert cluster labels into a format suitable for concatenation\n",
    "from scipy.sparse import csr_matrix\n",
    "cluster_features = csr_matrix(pd.get_dummies(df['sentiment_cluster']))\n",
    "\n",
    "# Concatenate text features with cluster labels\n",
    "from scipy.sparse import hstack\n",
    "X = hstack([X, cluster_features])\n",
    "\n",
    "# Split the dataset\n",
    "X_train, X_test, y_train, y_test = train_test_split(X, df['label'], test_size=0.2, random_state=42)\n",
    "X_train, X_val, y_train, y_val = train_test_split(X_train, y_train, test_size=0.25, random_state=42)\n",
    "\n",
    "# Step 4: Train the SVM model\n",
    "svm_model = SVC(kernel='linear', random_state=42)\n",
    "svm_model.fit(X_train, y_train)\n",
    "\n",
    "# Step 5: Validate the model\n",
    "y_val_pred = svm_model.predict(X_val)\n",
    "val_accuracy = accuracy_score(y_val, y_val_pred)\n",
    "print(\"Validation Accuracy:\", val_accuracy)\n",
    "print(classification_report(y_val, y_val_pred))\n",
    "\n",
    "# Step 6: Test the model\n",
    "y_test_pred = svm_model.predict(X_test)\n",
    "test_accuracy = accuracy_score(y_test, y_test_pred)\n",
    "print(\"Test Accuracy:\", (y_pred == y_test).mean())\n",
    "print(classification_report(y_test, y_pred))"
   ]
  },
  {
   "cell_type": "code",
   "execution_count": 29,
   "metadata": {},
   "outputs": [
    {
     "name": "stdout",
     "output_type": "stream",
     "text": [
      "Epoch [1/10], Step [100/198], Loss: 0.2571\n",
      "Epoch [2/10], Step [100/198], Loss: 0.0786\n",
      "Epoch [3/10], Step [100/198], Loss: 0.0238\n",
      "Epoch [4/10], Step [100/198], Loss: 0.0570\n",
      "Epoch [5/10], Step [100/198], Loss: 0.0914\n",
      "Epoch [6/10], Step [100/198], Loss: 0.0012\n",
      "Epoch [7/10], Step [100/198], Loss: 0.0018\n",
      "Epoch [8/10], Step [100/198], Loss: 0.0006\n",
      "Epoch [9/10], Step [100/198], Loss: 0.0006\n",
      "Epoch [10/10], Step [100/198], Loss: 0.0001\n",
      "Accuracy on the test set: 87.75%\n"
=======
   "execution_count": 6,
   "metadata": {},
   "outputs": [
    {
     "name": "stdout",
     "output_type": "stream",
     "text": [
      "['#fingerprint #Pregnancy Test https://goo.gl/h1MfQV #android #apps #beautiful #cute #health #igers #iphoneonly #iphonesia #iphone'\n",
      " 'Finally a transparant silicon case ^^ Thanks to my uncle :) #yay #Sony #Xperia #S #sonyexperias… http://instagram.com/p/YGEt5JC6JM/'\n",
      " 'We love this! Would you go? #talk #makememories #unplug #relax #iphone #smartphone #wifi #connect... http://fb.me/6N3LsUpCu'\n",
      " ...\n",
      " \"Helping my lovely 90 year old neighbor with her iPad this morning has just made me realise that 'I' don't actually need an I pad!\"\n",
      " 'Finally got my #smart #pocket #wifi stay connected anytime,anywhere! #ipad and #samsung #s3 #gadget # http://instagr.am/p/U-53G_vJU8/'\n",
      " 'Apple Barcelona!!! #Apple #Store #BCN #Barcelona #travel #iphone #selfie #fly #fun #cabincrew… http://instagram.com/p/wBApVzpCl3/']\n",
      "[0 0 0 ... 0 0 0]\n"
     ]
    },
    {
     "name": "stderr",
     "output_type": "stream",
     "text": [
      "/home/aidan/.local/lib/python3.12/site-packages/tqdm/auto.py:21: TqdmWarning: IProgress not found. Please update jupyter and ipywidgets. See https://ipywidgets.readthedocs.io/en/stable/user_install.html\n",
      "  from .autonotebook import tqdm as notebook_tqdm\n"
     ]
    },
    {
     "name": "stdout",
     "output_type": "stream",
     "text": [
      "Epoch [1/10], Step [100/198], Loss: 0.2735\n",
      "Epoch [2/10], Step [100/198], Loss: 0.2639\n",
      "Epoch [3/10], Step [100/198], Loss: 0.0199\n",
      "Epoch [4/10], Step [100/198], Loss: 0.0689\n",
      "Epoch [5/10], Step [100/198], Loss: 0.0009\n",
      "Epoch [6/10], Step [100/198], Loss: 0.0010\n",
      "Epoch [7/10], Step [100/198], Loss: 0.0003\n",
      "Epoch [8/10], Step [100/198], Loss: 0.0007\n",
      "Epoch [9/10], Step [100/198], Loss: 0.0000\n",
      "Epoch [10/10], Step [100/198], Loss: 0.0000\n",
      "Accuracy on the test set: 86.93%\n"
>>>>>>> 8616a0d2a941a584a12d2d52546f28d2af5456b0
     ]
    }
   ],
   "source": [
    "#LSTM Code\n",
    "\n",
    "import numpy as np\n",
    "import pandas as pd\n",
    "import torch\n",
    "import torch.nn as nn\n",
    "from torch.utils.data import Dataset, DataLoader\n",
    "from sklearn.model_selection import train_test_split\n",
    "from sklearn.feature_extraction.text import CountVectorizer\n",
    "from sklearn.cluster import KMeans\n",
    "from textblob import TextBlob\n",
    "from sklearn.preprocessing import OneHotEncoder\n",
    "\n",
    "# Define the LSTM model\n",
    "# Step 1: Sentiment Analysis\n",
    "def get_sentiment(text):\n",
    "    return TextBlob(text).sentiment.polarity\n",
    "\n",
    "df['sentiment'] = df['tweet'].apply(get_sentiment)\n",
    "\n",
    "# Step 2: Clustering based on Sentiment\n",
    "kmeans = KMeans(n_clusters=3, random_state=42)\n",
    "df['sentiment_cluster'] = kmeans.fit_predict(df[['sentiment']].values)\n",
    "\n",
    "# One-hot encoding of cluster labels\n",
    "ohe = OneHotEncoder(sparse=False)\n",
    "cluster_features = ohe.fit_transform(df[['sentiment_cluster']])\n",
    "\n",
    "# Step 3: Feature extraction for text\n",
    "vectorizer = CountVectorizer(max_features=5000)\n",
    "X_text = vectorizer.fit_transform(df['tweet']).toarray()\n",
    "\n",
    "# Combine text features with cluster features\n",
    "X_combined = np.hstack((X_text, cluster_features))\n",
    "y = df['label'].values\n",
    "\n",
    "# Define the LSTM model\n",
    "class LSTMModel(nn.Module):\n",
    "    def __init__(self, input_size, hidden_size, num_layers, output_size):\n",
    "        super(LSTMModel, self).__init__()\n",
    "        self.hidden_size = hidden_size\n",
    "        self.num_layers = num_layers\n",
    "        self.lstm = nn.LSTM(input_size, hidden_size, num_layers, batch_first=True)\n",
    "        self.fc = nn.Linear(hidden_size, output_size)\n",
    "\n",
    "    def forward(self, x):\n",
    "        batch_size = x.size(0)  # Dynamically assign batch_size based on input\n",
    "        h0 = torch.zeros(self.num_layers, batch_size, self.hidden_size).to(device)\n",
    "        c0 = torch.zeros(self.num_layers, batch_size, self.hidden_size).to(device)\n",
    "        out, _ = self.lstm(x, (h0, c0))\n",
    "        out = self.fc(out[:, -1, :])  # Take last output\n",
    "        return out\n",
    "\n",
    "# Convert numpy arrays to tensors\n",
    "X_combined = torch.tensor(X_combined, dtype=torch.float32)\n",
    "y = torch.tensor(y, dtype=torch.float32)\n",
    "\n",
    "# Split the data into train and test sets\n",
    "X_train, X_test, y_train, y_test = train_test_split(X_combined, y, test_size=0.2, random_state=42)\n",
    "\n",
    "# Data loaders\n",
    "train_dataset = torch.utils.data.TensorDataset(X_train, y_train)\n",
    "train_loader = DataLoader(train_dataset, batch_size=32, shuffle=True)\n",
    "\n",
    "test_dataset = torch.utils.data.TensorDataset(X_test, y_test)\n",
    "test_loader = DataLoader(test_dataset, batch_size=32, shuffle=False)\n",
    "\n",
    "# Model parameters\n",
    "input_size = X_combined.shape[1]\n",
    "hidden_size = 128\n",
    "num_layers = 2\n",
    "output_size = 1\n",
    "\n",
    "# Device configuration\n",
    "device = torch.device('cuda' if torch.cuda.is_available() else 'cpu')\n",
    "\n",
    "# Create model, loss function, and optimizer\n",
    "model = LSTMModel(input_size, hidden_size, num_layers, output_size).to(device)\n",
    "criterion = nn.BCEWithLogitsLoss()\n",
    "optimizer = torch.optim.Adam(model.parameters(), lr=0.001)\n",
    "\n",
    "\n",
    "# Training the model\n",
    "model.train()\n",
    "for epoch in range(num_epochs):\n",
    "    for i, (inputs, labels) in enumerate(train_loader):\n",
    "        inputs, labels = inputs.to(device), labels.to(device)\n",
    "        inputs = inputs.unsqueeze(1)  # Adjust input shape if necessary\n",
    "        optimizer.zero_grad()\n",
    "        \n",
    "        try:\n",
    "            outputs = model(inputs)\n",
    "            loss = criterion(outputs, labels.unsqueeze(1))\n",
    "            loss.backward()\n",
    "            optimizer.step()\n",
    "        except RuntimeError as e:\n",
    "            print(f\"Runtime error at Epoch {epoch+1}, Step {i+1}: {str(e)}\")\n",
    "            break  # Break out of the loop to fix issues\n",
    "\n",
    "        if (i + 1) % 100 == 0:\n",
    "            print(f'Epoch [{epoch+1}/{num_epochs}], Step [{i+1}/{total_steps}], Loss: {loss.item():.4f}')\n",
    "\n",
    "# Evaluation\n",
    "model.eval()\n",
    "with torch.no_grad():\n",
    "    correct = 0\n",
    "    total = 0\n",
    "    # Ensure test_loader is defined as shown above\n",
    "    for inputs, labels in test_loader:\n",
    "        inputs, labels = inputs.to(device), labels.to(device)\n",
    "        labels = labels.unsqueeze(1).float().to(device)\n",
    "        inputs = inputs.unsqueeze(1)\n",
    "        outputs = model(inputs)\n",
    "        predicted = (torch.sigmoid(outputs) >= 0.5).float()\n",
    "        total += labels.size(0)\n",
    "        correct += (predicted == labels).sum().item()\n",
    "\n",
    "    print(f'Accuracy on the test set: {(correct/total)*100:.2f}%')"
   ]
  }
 ],
 "metadata": {
  "kernelspec": {
   "display_name": "Python 3",
   "language": "python",
   "name": "python3"
  },
  "language_info": {
   "codemirror_mode": {
    "name": "ipython",
    "version": 3
   },
   "file_extension": ".py",
   "mimetype": "text/x-python",
   "name": "python",
   "nbconvert_exporter": "python",
   "pygments_lexer": "ipython3",
   "version": "3.12.2"
  }
 },
 "nbformat": 4,
 "nbformat_minor": 2
}
