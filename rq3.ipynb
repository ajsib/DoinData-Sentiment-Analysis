{
 "cells": [
  {
   "cell_type": "markdown",
   "metadata": {},
   "source": [
    "```\n",
    "• Feature Selection: Employ chi-squared tests to identify significant lin-\n",
    "guistic features.\n",
    "• Regression Analysis: Analyze correlations using regression to predict\n",
    "sentiment shifts.\n",
    "• Validation: Cross-validate results to ensure reliability and replicability.\n",
    "```"
   ]
  },
  {
   "cell_type": "code",
   "execution_count": 1,
   "metadata": {},
   "outputs": [],
   "source": [
    "import pandas as pd\n",
    "import numpy as np\n",
    "import matplotlib.pyplot as plt\n",
    "import seaborn as sns\n",
    "import os\n",
    "import re\n",
    "from sklearn.feature_extraction.text import ENGLISH_STOP_WORDS\n",
    "from torch.utils.data import DataLoader, Dataset\n",
    "import torch\n",
    "\n",
    "# import tensorflow"
   ]
  },
  {
   "cell_type": "code",
   "execution_count": 2,
   "metadata": {},
   "outputs": [
    {
     "data": {
      "text/html": [
       "<div>\n",
       "<style scoped>\n",
       "    .dataframe tbody tr th:only-of-type {\n",
       "        vertical-align: middle;\n",
       "    }\n",
       "\n",
       "    .dataframe tbody tr th {\n",
       "        vertical-align: top;\n",
       "    }\n",
       "\n",
       "    .dataframe thead th {\n",
       "        text-align: right;\n",
       "    }\n",
       "</style>\n",
       "<table border=\"1\" class=\"dataframe\">\n",
       "  <thead>\n",
       "    <tr style=\"text-align: right;\">\n",
       "      <th></th>\n",
       "      <th>label</th>\n",
       "      <th>tweet</th>\n",
       "    </tr>\n",
       "  </thead>\n",
       "  <tbody>\n",
       "    <tr>\n",
       "      <th>0</th>\n",
       "      <td>0</td>\n",
       "      <td>#fingerprint #Pregnancy Test https://goo.gl/h1...</td>\n",
       "    </tr>\n",
       "    <tr>\n",
       "      <th>1</th>\n",
       "      <td>0</td>\n",
       "      <td>Finally a transparant silicon case ^^ Thanks t...</td>\n",
       "    </tr>\n",
       "    <tr>\n",
       "      <th>2</th>\n",
       "      <td>0</td>\n",
       "      <td>We love this! Would you go? #talk #makememorie...</td>\n",
       "    </tr>\n",
       "    <tr>\n",
       "      <th>3</th>\n",
       "      <td>0</td>\n",
       "      <td>I'm wired I know I'm George I was made that wa...</td>\n",
       "    </tr>\n",
       "    <tr>\n",
       "      <th>4</th>\n",
       "      <td>1</td>\n",
       "      <td>What amazing service! Apple won't even talk to...</td>\n",
       "    </tr>\n",
       "  </tbody>\n",
       "</table>\n",
       "</div>"
      ],
      "text/plain": [
       "   label                                              tweet\n",
       "0      0  #fingerprint #Pregnancy Test https://goo.gl/h1...\n",
       "1      0  Finally a transparant silicon case ^^ Thanks t...\n",
       "2      0  We love this! Would you go? #talk #makememorie...\n",
       "3      0  I'm wired I know I'm George I was made that wa...\n",
       "4      1  What amazing service! Apple won't even talk to..."
      ]
     },
     "execution_count": 2,
     "metadata": {},
     "output_type": "execute_result"
    }
   ],
   "source": [
    "file_name = os.path.join(os.getcwd(),  'sentiment_analysis.csv')\n",
    "df = pd.read_csv(file_name)\n",
    "df = df.drop(columns=['id'])\n",
    "df.head()"
   ]
  },
  {
   "cell_type": "code",
   "execution_count": 3,
   "metadata": {},
   "outputs": [],
   "source": [
    "def clean(text):\n",
    "    text = re.sub(r'http\\S+', '', text)  # Remove URLs\n",
    "    # text = re.sub(r'#\\w+', '', text)  # Remove hashtags\n",
    "    text = re.sub(r'@\\w+', '', text)  # Remove mentions\n",
    "    text = re.sub(r'\\n',' ', text)  # Remove line breaks\n",
    "    text = re.sub(r'[^a-zA-Z\\s]', '', text, re.I|re.A)  # Remove punctuation\n",
    "    text = text.lower()  # Lowercase\n",
    "\n",
    "    filtered_text = ' '.join([word for word in text.split() if word not in ENGLISH_STOP_WORDS])\n",
    "\n",
    "    return filtered_text\n",
    "\n",
    "# Function to extract hashtags from a tweet\n",
    "def extract_hashtags(tweet):\n",
    "    hashtags = re.findall(r'#(\\w+)', tweet)\n",
    "    return hashtags\n",
    "\n",
    "# Apply the function to extract hashtags and create a new column\n",
    "#df['hashtags'] = df['tweet'].apply(extract_hashtags)\n",
    "\n",
    "#df['cleaned_tweet'] = df['tweet'].apply(clean)"
   ]
  },
  {
   "cell_type": "code",
   "execution_count": 4,
   "metadata": {},
   "outputs": [
    {
     "name": "stdout",
     "output_type": "stream",
     "text": [
      "Requirement already satisfied: textblob in c:\\users\\brite\\anaconda3\\lib\\site-packages (0.18.0.post0)\n",
      "Requirement already satisfied: nltk>=3.8 in c:\\users\\brite\\anaconda3\\lib\\site-packages (from textblob) (3.8.1)\n",
      "Requirement already satisfied: joblib in c:\\users\\brite\\anaconda3\\lib\\site-packages (from nltk>=3.8->textblob) (1.1.0)\n",
      "Requirement already satisfied: tqdm in c:\\users\\brite\\anaconda3\\lib\\site-packages (from nltk>=3.8->textblob) (4.64.1)\n",
      "Requirement already satisfied: regex>=2021.8.3 in c:\\users\\brite\\anaconda3\\lib\\site-packages (from nltk>=3.8->textblob) (2022.7.9)\n",
      "Requirement already satisfied: click in c:\\users\\brite\\anaconda3\\lib\\site-packages (from nltk>=3.8->textblob) (8.0.4)\n",
      "Requirement already satisfied: colorama in c:\\users\\brite\\anaconda3\\lib\\site-packages (from click->nltk>=3.8->textblob) (0.4.5)\n"
     ]
    },
    {
     "name": "stderr",
     "output_type": "stream",
     "text": [
      "[nltk_data] Downloading package averaged_perceptron_tagger to\n",
      "[nltk_data]     C:\\Users\\brite\\AppData\\Roaming\\nltk_data...\n",
      "[nltk_data]   Unzipping taggers\\averaged_perceptron_tagger.zip.\n",
      "[nltk_data] Downloading package punkt to\n",
      "[nltk_data]     C:\\Users\\brite\\AppData\\Roaming\\nltk_data...\n",
      "[nltk_data]   Package punkt is already up-to-date!\n"
     ]
    },
    {
     "data": {
      "text/plain": [
       "True"
      ]
     },
     "execution_count": 4,
     "metadata": {},
     "output_type": "execute_result"
    }
   ],
   "source": [
    "!pip install textblob\n",
    "import nltk\n",
    "#download the necessary nltk data\n",
    "nltk.download('averaged_perceptron_tagger')\n",
    "nltk.download('punkt')"
   ]
  },
  {
   "cell_type": "code",
   "execution_count": 5,
   "metadata": {},
   "outputs": [],
   "source": [
    "from nltk.corpus import stopwords\n",
    "from textblob import TextBlob"
   ]
  },
  {
   "cell_type": "code",
   "execution_count": 6,
   "metadata": {},
   "outputs": [
    {
     "name": "stdout",
     "output_type": "stream",
     "text": [
      "   label                                              tweet  \\\n",
      "0      0  #fingerprint #Pregnancy Test https://goo.gl/h1...   \n",
      "1      0  Finally a transparant silicon case ^^ Thanks t...   \n",
      "2      0  We love this! Would you go? #talk #makememorie...   \n",
      "3      0  I'm wired I know I'm George I was made that wa...   \n",
      "4      1  What amazing service! Apple won't even talk to...   \n",
      "\n",
      "                                       cleaned_tweet  \\\n",
      "0  fingerprint pregnancy test android apps beauti...   \n",
      "1  finally transparant silicon case thanks uncle ...   \n",
      "2  love talk makememories unplug relax iphone sma...   \n",
      "3  im wired know im george way iphone cute davent...   \n",
      "4  amazing service apple wont talk question unles...   \n",
      "\n",
      "                                            hashtags  sentiment_polarity  \\\n",
      "0  [fingerprint, Pregnancy, android, apps, beauti...               0.675   \n",
      "1               [yay, Sony, Xperia, S, sonyexperias]               0.100   \n",
      "2  [talk, makememories, unplug, relax, iphone, sm...               0.500   \n",
      "3                     [iphone, cute, daventry, home]               0.500   \n",
      "4                                                 []              -0.100   \n",
      "\n",
      "   sentiment_subjectivity                                           pos_tags  \n",
      "0                    1.00  [(fingerprint, NN), (pregnancy, NN), (test, NN...  \n",
      "1                    0.60  [(finally, RB), (transparant, JJ), (silicon, N...  \n",
      "2                    0.60  [(love, NN), (talk, NN), (makememories, NNS), ...  \n",
      "3                    1.00  [(im, NN), (wired, VBD), (know, JJ), (im, NN),...  \n",
      "4                    0.95  [(amazing, JJ), (service, NN), (apple, NN), (w...  \n"
     ]
    }
   ],
   "source": [
    "def get_sentiment(text):\n",
    "    blob = TextBlob(text)\n",
    "    return blob.sentiment.polarity, blob.sentiment.subjectivity\n",
    "\n",
    "def get_pos_tags(text):\n",
    "    tokens = nltk.word_tokenize(text)\n",
    "    tags = nltk.pos_tag(tokens)\n",
    "    return tags\n",
    "\n",
    "# Applying the transformations\n",
    "df['cleaned_tweet'] = df['tweet'].apply(clean)\n",
    "df['hashtags'] = df['tweet'].apply(extract_hashtags)\n",
    "df['sentiment_polarity'], df['sentiment_subjectivity'] = zip(*df['cleaned_tweet'].apply(get_sentiment))\n",
    "df['pos_tags'] = df['cleaned_tweet'].apply(get_pos_tags)\n",
    "\n",
    "print(df.head())"
   ]
  },
  {
   "cell_type": "code",
   "execution_count": 10,
   "metadata": {},
   "outputs": [],
   "source": [
    "from sklearn.feature_selection import chi2, SelectKBest\n",
    "from sklearn.decomposition import PCA\n",
    "from sklearn.discriminant_analysis import LinearDiscriminantAnalysis as LDA\n",
    "from sklearn.preprocessing import LabelEncoder, StandardScaler\n",
    "from sklearn.feature_extraction.text import CountVectorizer, ENGLISH_STOP_WORDS"
   ]
  },
  {
   "cell_type": "code",
   "execution_count": 13,
   "metadata": {},
   "outputs": [
    {
     "name": "stdout",
     "output_type": "stream",
     "text": [
      "Index(['label', 'tweet', 'cleaned_tweet', 'hashtags', 'sentiment_polarity',\n",
      "       'sentiment_subjectivity', 'pos_tags'],\n",
      "      dtype='object')\n",
      "Selected features: ['amazing' 'apple' 'apple products' 'battery' 'beautiful' 'birthday'\n",
      " 'broken' 'case' 'charger' 'chargers' 'cute' 'dear apple' 'deleted'\n",
      " 'didnt' 'does' 'doesnt' 'dont' 'fashion' 'fix' 'follow' 'follow follow'\n",
      " 'follow rts' 'followers' 'followers rt' 'fuck' 'fuck apple' 'fucked'\n",
      " 'fucking' 'fuckyou' 'fuckyou apple' 'fun' 'funny' 'gain' 'gain followers'\n",
      " 'gain iphone' 'girl' 'going' 'half' 'happy' 'hate' 'hate apple'\n",
      " 'hateapple' 'hour' 'hours' 'igers' 'instagood' 'instagram' 'ios'\n",
      " 'ipad iphone' 'iphone' 'iphone sougofollow' 'iphoneonly' 'iphonesia'\n",
      " 'iphonex' 'ipod' 'itunes' 'ive' 'just' 'life' 'lost' 'love' 'need' 'new'\n",
      " 'news' 'pay' 'phone' 'photo' 'photography' 'photooftheday' 'pissed'\n",
      " 'really' 'restore' 'right' 'rt' 'rt follow' 'rts' 'rts gain' 'samsung'\n",
      " 'selfie' 'seriously' 'shit' 'shitty' 'smile' 'software' 'sony'\n",
      " 'sougofollow' 'stop' 'stupid' 'suck' 'sucks' 'sync' 'texts' 'today'\n",
      " 'trying' 'update' 'want' 'wont' 'working' 'worst' 'wtf']\n",
      "PCA reduced features to: 79\n",
      "LDA reduced features to: 1\n"
     ]
    }
   ],
   "source": [
    "print(df.columns)\n",
    "# Feature Extraction with CountVectorizer\n",
    "vectorizer = CountVectorizer(max_df=0.95, min_df=5, ngram_range=(1,2))\n",
    "X = vectorizer.fit_transform(df['cleaned_tweet'])\n",
    "\n",
    "# Assuming 'target' is your sentiment/category column\n",
    "label_enc = LabelEncoder()\n",
    "df['target_encoded'] = label_enc.fit_transform(df['label'])\n",
    "\n",
    "# Feature Selection with Chi-squared\n",
    "chi2_features = SelectKBest(chi2, k=100)\n",
    "X_kbest_features = chi2_features.fit_transform(X, df['target_encoded'])\n",
    "\n",
    "# Dimensionality Reduction with PCA\n",
    "scaler = StandardScaler()\n",
    "X_scaled = scaler.fit_transform(X_kbest_features.toarray())  # Scaling is important for PCA\n",
    "\n",
    "pca = PCA(n_components=0.95)\n",
    "X_pca = pca.fit_transform(X_scaled)\n",
    "\n",
    "# Dimensionality Reduction with LDA\n",
    "# Ensure the number of components for LDA does not exceed the number of classes minus one\n",
    "lda = LDA(n_components=min(len(label_enc.classes_)-1, X_kbest_features.shape[1]))\n",
    "X_lda = lda.fit_transform(X_kbest_features.toarray(), df['target_encoded'])\n",
    "\n",
    "# Output some results\n",
    "print(\"Selected features:\", vectorizer.get_feature_names_out()[chi2_features.get_support()])\n",
    "print(\"PCA reduced features to:\", pca.n_components_)\n",
    "print(\"LDA reduced features to:\", lda.n_components)"
   ]
  },
  {
   "cell_type": "code",
   "execution_count": 14,
   "metadata": {},
   "outputs": [
    {
     "name": "stdout",
     "output_type": "stream",
     "text": [
      "Mean Squared Error: 0.06973530078086079\n",
      "R^2 Score: 0.3288582444282966\n"
     ]
    }
   ],
   "source": [
    "from sklearn.model_selection import train_test_split\n",
    "from sklearn.linear_model import LinearRegression\n",
    "from sklearn.metrics import mean_squared_error, r2_score\n",
    "X = X_pca  # or X_lda, depending on which you want to use\n",
    "y = df['sentiment_polarity']\n",
    "\n",
    "# Splitting the dataset into training and testing sets\n",
    "X_train, X_test, y_train, y_test = train_test_split(X, y, test_size=0.2, random_state=42)\n",
    "\n",
    "# Creating the regression model\n",
    "model = LinearRegression()\n",
    "model.fit(X_train, y_train)\n",
    "\n",
    "# Making predictions\n",
    "y_pred = model.predict(X_test)\n",
    "\n",
    "# Evaluating the model\n",
    "mse = mean_squared_error(y_test, y_pred)\n",
    "r2 = r2_score(y_test, y_pred)\n",
    "\n",
    "print(f\"Mean Squared Error: {mse}\")\n",
    "print(f\"R^2 Score: {r2}\")"
   ]
  },
  {
   "cell_type": "code",
   "execution_count": 15,
   "metadata": {},
   "outputs": [
    {
     "data": {
      "image/png": "[encoded data removed]",
      "text/plain": [
       "<Figure size 1000x800 with 2 Axes>"
      ]
     },
     "metadata": {},
     "output_type": "display_data"
    }
   ],
   "source": [
    "import seaborn as sns\n",
    "import matplotlib.pyplot as plt\n",
    "\n",
    "# Assuming you have a DataFrame where columns include 'sentiment_polarity' and other numeric features\n",
    "# Let's create a smaller DataFrame with only relevant features for simplicity\n",
    "feature_columns = ['sentiment_polarity'] + list(df.columns[df.dtypes == 'float64'])  # modify this as necessary\n",
    "\n",
    "# Calculate correlation matrix\n",
    "corr_matrix = df[feature_columns].corr()\n",
    "\n",
    "# Plotting the correlation matrix\n",
    "plt.figure(figsize=(10, 8))\n",
    "sns.heatmap(corr_matrix, annot=True, fmt=\".2f\", cmap='coolwarm')\n",
    "plt.title('Correlation Matrix')\n",
    "plt.show()"
   ]
  },
  {
   "cell_type": "code",
   "execution_count": 16,
   "metadata": {},
   "outputs": [
    {
     "name": "stdout",
     "output_type": "stream",
     "text": [
      "Logistic Regression Model Evaluation:\n",
      "Accuracy: 0.8478535353535354\n",
      "Confusion Matrix:\n",
      "[[1093   59]\n",
      " [ 182  250]]\n"
     ]
    },
    {
     "name": "stderr",
     "output_type": "stream",
     "text": [
      "c:\\Users\\brite\\anaconda3\\lib\\site-packages\\sklearn\\linear_model\\_logistic.py:814: ConvergenceWarning: lbfgs failed to converge (status=1):\n",
      "STOP: TOTAL NO. of ITERATIONS REACHED LIMIT.\n",
      "\n",
      "Increase the number of iterations (max_iter) or scale the data as shown in:\n",
      "    https://scikit-learn.org/stable/modules/preprocessing.html\n",
      "Please also refer to the documentation for alternative solver options:\n",
      "    https://scikit-learn.org/stable/modules/linear_model.html#logistic-regression\n",
      "  n_iter_i = _check_optimize_result(\n"
     ]
    }
   ],
   "source": [
    "from sklearn.linear_model import LogisticRegression\n",
    "from sklearn.metrics import accuracy_score, confusion_matrix\n",
    "\n",
    "# Assuming the target variable 'label' is categorical and already encoded into 'target_encoded'\n",
    "X = X_pca\n",
    "y = df['target_encoded']  # This should be a binary or multi-class categorical variable\n",
    "\n",
    "# Splitting the data\n",
    "X_train, X_test, y_train, y_test = train_test_split(X, y, test_size=0.2, random_state=42)\n",
    "\n",
    "# Logistic Regression Model\n",
    "logistic_model = LogisticRegression()\n",
    "logistic_model.fit(X_train, y_train)\n",
    "\n",
    "# Making predictions\n",
    "y_pred = logistic_model.predict(X_test)\n",
    "\n",
    "# Evaluating the model\n",
    "accuracy = accuracy_score(y_test, y_pred)\n",
    "conf_matrix = confusion_matrix(y_test, y_pred)\n",
    "\n",
    "print(\"Logistic Regression Model Evaluation:\")\n",
    "print(f\"Accuracy: {accuracy}\")\n",
    "print(\"Confusion Matrix:\")\n",
    "print(conf_matrix)"
   ]
  }
 ],
 "metadata": {
  "kernelspec": {
   "display_name": "base",
   "language": "python",
   "name": "python3"
  },
  "language_info": {
   "codemirror_mode": {
    "name": "ipython",
    "version": 3
   },
   "file_extension": ".py",
   "mimetype": "text/x-python",
   "name": "python",
   "nbconvert_exporter": "python",
   "pygments_lexer": "ipython3",
   "version": "3.9.13"
  }
 },
 "nbformat": 4,
 "nbformat_minor": 2
}
